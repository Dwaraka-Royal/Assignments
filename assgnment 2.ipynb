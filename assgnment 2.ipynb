{
 "cells": [
  {
   "cell_type": "markdown",
   "metadata": {},
   "source": [
    "Task 1:"
   ]
  },
  {
   "cell_type": "markdown",
   "metadata": {},
   "source": [
    "1.1Write a Python Program to implement your own myreduce() function which works exactly likePython's built-in function reduce()"
   ]
  },
  {
   "cell_type": "code",
   "execution_count": 20,
   "metadata": {},
   "outputs": [
    {
     "name": "stdout",
     "output_type": "stream",
     "text": [
      "Enter the list numbers separated by space : 1 2 3 4\n",
      "[1, 2, 3, 4]\n",
      "\n",
      "10\n"
     ]
    }
   ],
   "source": [
    "l=list(map(int, input(\"Enter the list numbers separated by space : \").split()))\n",
    "print(l)\n",
    "def my_reduce(l):\n",
    "    sum=l[0]\n",
    "    for i in l[1:]:\n",
    "        sum=sum+i   \n",
    "    print()\n",
    "    print(sum)\n",
    "my_reduce(l)"
   ]
  },
  {
   "cell_type": "code",
   "execution_count": 17,
   "metadata": {},
   "outputs": [
    {
     "name": "stdout",
     "output_type": "stream",
     "text": [
      "Enter the list numbers separated by space : 1 2 3 4 5\n",
      "15\n"
     ]
    }
   ],
   "source": [
    "# or\n",
    "l=list(map(int, input(\"Enter the list numbers separated by space : \").split()))\n",
    "def do_sum(x1, x2): \n",
    "    return x1 + x2\n",
    "def my_reduce(func, seq):\n",
    "    sum = seq[0]\n",
    "    for i in seq[1:]:\n",
    "        sum = func(sum, i)\n",
    "    return sum\n",
    "\n",
    "print(my_reduce(do_sum,l))"
   ]
  },
  {
   "cell_type": "markdown",
   "metadata": {},
   "source": [
    "1.2Write a Python program to implement your own myfilter() function which works exactly likePython's built-in function filter()"
   ]
  },
  {
   "cell_type": "code",
   "execution_count": 21,
   "metadata": {},
   "outputs": [
    {
     "name": "stdout",
     "output_type": "stream",
     "text": [
      "[2, 4, 6, 8, 10]\n"
     ]
    }
   ],
   "source": [
    "def my_filter(func,sequence):\n",
    "    res=[]\n",
    "    for variable in sequence :\n",
    "        if func(variable):\n",
    "            res.append(variable)\n",
    "    return res\n",
    "\n",
    "def is_even(item):\n",
    "    if item%2==0 :\n",
    "        return True\n",
    "    else :\n",
    "        return False\n",
    "\n",
    "\n",
    "\n",
    "seq=[1,2,3,4,5,6,7,8,9,10]\n",
    "print(my_filter(is_even,seq))"
   ]
  },
  {
   "cell_type": "markdown",
   "metadata": {},
   "source": [
    "2.Implement List comprehensions to produce the following lists.Write List comprehensions to produce the following Lists['A', 'C', 'A', 'D', 'G', 'I', ’L’, ‘ D’]['x', 'xx', 'xxx', 'xxxx', 'y', 'yy', 'yyy', 'yyyy', 'z', 'zz', 'zzz', 'zzzz']['x', 'y', 'z', 'xx', 'yy', 'zz', 'xx', 'yy', 'zz', 'xxxx', 'yyyy', 'zzzz'][[2], [3], [4], [3], [4], [5], [4], [5], [6]][[2, 3, 4, 5], [3, 4, 5, 6], [4, 5, 6, 7], [5, 6, 7, 8]][(1, 1), (2, 1), (3, 1), (1, 2), (2, 2), (3, 2), (1, 3), (2, 3), (3, 3)]"
   ]
  },
  {
   "cell_type": "code",
   "execution_count": 23,
   "metadata": {},
   "outputs": [
    {
     "name": "stdout",
     "output_type": "stream",
     "text": [
      "['A', 'C', 'A', 'D', 'G', 'I', 'L', 'D']\n",
      "['x', 'xx', 'xxx', 'xxxx', 'y', 'yy', 'yyy', 'yyyy', 'z', 'zz', 'zzz', 'zzzz']\n",
      "['x', 'y', 'z', 'xx', 'yy', 'zz', 'xxx', 'yyy', 'zzz', 'xxxx', 'yyyy', 'zzzz']\n",
      "\n",
      "[2, 3, 4, 3, 4, 5, 4, 5, 6]\n",
      "[[2, 3, 4, 5], [3, 4, 5, 6], [4, 5, 6, 7], [5, 6, 7, 8]]\n",
      "[(1, 1), (2, 1), (3, 1), (1, 2), (2, 2), (3, 2), (1, 3), (2, 3), (3, 3)]\n"
     ]
    }
   ],
   "source": [
    "word = \"ACADGILD\"\n",
    "A_list = [ A for A in word ]\n",
    "print (A_list)\n",
    "\n",
    "i_list = ['x','y','z']\n",
    "result = [ s*n for s in i_list for n in range(1,5)  ]\n",
    "print(result)\n",
    "\n",
    "result = [ s*n for n in range(1,5) for s in i_list  ]\n",
    "print(result)\n",
    "\n",
    "print()\n",
    "\n",
    "input_list = [2,3,4]\n",
    "result = [ s+n for s in input_list for n in range(0,3)]\n",
    "print(result)\n",
    "\n",
    "\n",
    "input_list = [2,3,4,5]\n",
    "result = [ [s+n for s in input_list] for n in range(0,4)  ]\n",
    "print(result)\n",
    "\n",
    "\n",
    "input_list=[1,2,3]\n",
    "result = [ (y,x) for x in input_list for y in input_list]\n",
    "print(result)"
   ]
  },
  {
   "cell_type": "markdown",
   "metadata": {},
   "source": [
    "3.Implement a function longestWord() that takes a list of words and returns the longest one."
   ]
  },
  {
   "cell_type": "code",
   "execution_count": 26,
   "metadata": {},
   "outputs": [
    {
     "name": "stdout",
     "output_type": "stream",
     "text": [
      "Dwaraka\n"
     ]
    }
   ],
   "source": [
    "def find_longest_word(words_list):\n",
    "    word_len = []\n",
    "    for n in words_list:\n",
    "        word_len.append((len(n), n))\n",
    "    word_len.sort()\n",
    "    return word_len[-1][1]\n",
    "\n",
    "print(find_longest_word([\"Dwaraka\", \"MOhan\", \" SUray\"]))"
   ]
  },
  {
   "cell_type": "markdown",
   "metadata": {},
   "source": [
    "TASK-2"
   ]
  },
  {
   "cell_type": "markdown",
   "metadata": {},
   "source": [
    "1.1Write a Python Program(with class concepts) to find the area of the triangle using the belowformula.area = (s*(s-a)*(s-b)*(s-c)) ** 0.5Function to take the length of the sides of triangle from user should be defined in the parentclass and function to calculate the area should be defined in subclass."
   ]
  },
  {
   "cell_type": "code",
   "execution_count": 27,
   "metadata": {},
   "outputs": [
    {
     "name": "stdout",
     "output_type": "stream",
     "text": [
      "area =  64.06246951218786\n"
     ]
    }
   ],
   "source": [
    "class triangle:\n",
    "        def __init__(self, a, b, c):\n",
    "               self.a=a\n",
    "               self.b=b\n",
    "               self.c=c\n",
    "        def area(self):\n",
    "               s=(self.a+self.b+self.c)/2\n",
    "               area=(s*(s-self.a)*(s-self.b)*(s-self.c))**0.5\n",
    "               return area\n",
    "if __name__=='__main__':\n",
    "       t1=triangle(10,13,15)\n",
    "       print ('area = ',t1.area())"
   ]
  },
  {
   "cell_type": "markdown",
   "metadata": {},
   "source": [
    "1.2Write a function filter_long_words() that takes a list of words and an integer n and returns the listof words that are longer than n."
   ]
  },
  {
   "cell_type": "code",
   "execution_count": 29,
   "metadata": {},
   "outputs": [
    {
     "name": "stdout",
     "output_type": "stream",
     "text": [
      "input the list of words: Dwarakanath,Suray,Mohan,Lalith\n",
      "input an integer: 6\n",
      "The list of words greater than the integer is ['Dwarakanath']\n"
     ]
    }
   ],
   "source": [
    "def filterlongword(string,number):\n",
    "    return [word for word in string if len(word) > number]\n",
    "\n",
    "\n",
    "def main():\n",
    "    words = input(\"input the list of words: \").split(\",\")\n",
    "    integer = eval(input(\"input an integer: \"))\n",
    "\n",
    "    words1 = filterlongword(words,integer)\n",
    "\n",
    "    print(\"The list of words greater than the integer is\",words1)\n",
    "\n",
    "main()"
   ]
  },
  {
   "cell_type": "markdown",
   "metadata": {},
   "source": [
    "2.1Write a Python program using function concept that maps  list of words into a list of integersrepresenting the lengths of the corresponding words"
   ]
  },
  {
   "cell_type": "code",
   "execution_count": 30,
   "metadata": {},
   "outputs": [
    {
     "name": "stdout",
     "output_type": "stream",
     "text": [
      "[2, 3, 5]\n"
     ]
    }
   ],
   "source": [
    "def map_to_lengths_map(words):\n",
    "    return  map(len, words)\n",
    "\n",
    "if __name__ == \"__main__\":\n",
    "\n",
    "    s=list(map_to_lengths_map([\"ab\",\"cde\",\"entry\"]))\n",
    "    print(s)"
   ]
  },
  {
   "cell_type": "markdown",
   "metadata": {},
   "source": [
    "2.2Write a Python function which takes a character (i.e. a string of length 1) and returns True if it isa vowel, False otherwise."
   ]
  },
  {
   "cell_type": "code",
   "execution_count": 31,
   "metadata": {},
   "outputs": [
    {
     "name": "stdout",
     "output_type": "stream",
     "text": [
      "True\n",
      "True\n",
      "False\n",
      "False\n"
     ]
    }
   ],
   "source": [
    "def is_vowel(char):\n",
    "\n",
    "    vowels = ('a', 'e', 'i', 'o', 'u')\n",
    "\n",
    "    if char not in vowels:\n",
    "        return False\n",
    "    return True\n",
    "\n",
    "if __name__ == \"__main__\":\n",
    "\n",
    "    print(is_vowel('e'))\n",
    "\n",
    "    print(is_vowel('o'))\n",
    "\n",
    "    print(is_vowel('z'))\n",
    "    \n",
    "    print(is_vowel(9))"
   ]
  },
  {
   "cell_type": "code",
   "execution_count": null,
   "metadata": {},
   "outputs": [],
   "source": []
  }
 ],
 "metadata": {
  "kernelspec": {
   "display_name": "Python 3",
   "language": "python",
   "name": "python3"
  },
  "language_info": {
   "codemirror_mode": {
    "name": "ipython",
    "version": 3
   },
   "file_extension": ".py",
   "mimetype": "text/x-python",
   "name": "python",
   "nbconvert_exporter": "python",
   "pygments_lexer": "ipython3",
   "version": "3.7.3"
  }
 },
 "nbformat": 4,
 "nbformat_minor": 2
}
